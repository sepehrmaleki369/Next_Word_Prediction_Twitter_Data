{
  "nbformat": 4,
  "nbformat_minor": 0,
  "metadata": {
    "colab": {
      "provenance": [],
      "gpuType": "T4"
    },
    "kernelspec": {
      "name": "python3",
      "display_name": "Python 3"
    },
    "language_info": {
      "name": "python"
    },
    "gpuClass": "standard"
  },
  "cells": [
    {
      "cell_type": "code",
      "execution_count": null,
      "metadata": {
        "id": "yiWj5LIFAgNl"
      },
      "outputs": [],
      "source": [
        "import pandas as pd\n",
        "import numpy as np\n",
        "import tensorflow as tf\n",
        "from tensorflow.keras.preprocessing.text import Tokenizer\n",
        "from tensorflow.keras.preprocessing.sequence import pad_sequences\n",
        "from tensorflow.keras.utils import to_categorical\n",
        "from tensorflow.keras.models import Sequential\n",
        "from tensorflow.keras.layers import Embedding, LSTM, Dense, Bidirectional, Dropout\n",
        "from tensorflow.keras.optimizers import Adam"
      ]
    },
    {
      "cell_type": "code",
      "source": [
        "from google.colab import drive\n",
        "drive.mount('/content/drive')\n",
        "\n",
        "column_names = ['title', 'col1', 'col2', 'col3', 'col4', 'col5', 'col6']\n",
        "data = pd.read_csv('/content/drive/My Drive/twitter/twitter_sample_tweets.csv', names=column_names, error_bad_lines=False, nrows=10000, encoding='utf-8')\n"
      ],
      "metadata": {
        "colab": {
          "base_uri": "https://localhost:8080/"
        },
        "id": "8xAdWgQgAoNG",
        "outputId": "13a6464a-820c-4982-b492-4f2b32456bfd"
      },
      "execution_count": null,
      "outputs": [
        {
          "output_type": "stream",
          "name": "stdout",
          "text": [
            "Mounted at /content/drive\n"
          ]
        },
        {
          "output_type": "stream",
          "name": "stderr",
          "text": [
            "<ipython-input-2-c9617d414cdc>:5: FutureWarning: The error_bad_lines argument has been deprecated and will be removed in a future version. Use on_bad_lines in the future.\n",
            "\n",
            "\n",
            "  data = pd.read_csv('/content/drive/My Drive/twitter/twitter_sample_tweets.csv', names=column_names, error_bad_lines=False, nrows=10000, encoding='utf-8')\n"
          ]
        }
      ]
    },
    {
      "cell_type": "code",
      "source": [
        "import re\n",
        "\n",
        "def preprocess_text(text):\n",
        "    # Convert text to lowercase\n",
        "    # text = text.lower()\n",
        "\n",
        "    # Remove URLs and mentions\n",
        "    text = re.sub(r\"http\\S+\", \"\", str(text))\n",
        "    text = re.sub(r\"@\\S+\", \"\", (text))\n",
        "    text = re.sub(r'#\\w+', '', (text))\n",
        "\n",
        "    return text\n",
        "\n",
        "# Preprocess the data\n",
        "data['title'] = data['title'].apply(preprocess_text)"
      ],
      "metadata": {
        "id": "UL6krw0gAuUX"
      },
      "execution_count": null,
      "outputs": []
    },
    {
      "cell_type": "code",
      "source": [
        "data.head()"
      ],
      "metadata": {
        "colab": {
          "base_uri": "https://localhost:8080/",
          "height": 206
        },
        "id": "O3YXvFzfAQ3q",
        "outputId": "563e09be-494c-4207-92dc-a900ceda6e2d"
      },
      "execution_count": null,
      "outputs": [
        {
          "output_type": "execute_result",
          "data": {
            "text/plain": [
              "                                                                 title  col1  \\\n",
              "2019-02-01 00:00:00  RT : به نظر شما وقتی  وزیر امورخارجه بریتانیا ...   981   \n",
              "2019-02-01 00:00:00   RT : بنر تصاویر دیکتاتور توسط  به آتش کشیده شد.    163   \n",
              "2019-02-01 00:00:00  RT : مشهد به واسطه وجود حرم مطهر امام رضا(ع) و...    60   \n",
              "2019-02-01 00:00:00   عاخه تو مغزشون کردن هرکسی که مثلا از نظام انت...     0   \n",
              "2019-02-01 00:00:00                                    نرم باشه لطفاً.     0   \n",
              "\n",
              "                     col2  col3  col4  col5   col6  \n",
              "2019-02-01 00:00:00     0     0   144   220    184  \n",
              "2019-02-01 00:00:00     0     1  1589   981  31282  \n",
              "2019-02-01 00:00:00     0     2   380   418   3614  \n",
              "2019-02-01 00:00:00     1     3   466   708   5421  \n",
              "2019-02-01 00:00:00     2     4   381   755   4084  "
            ],
            "text/html": [
              "\n",
              "  <div id=\"df-e06d7ccf-427d-48a8-a562-6a2b00160457\">\n",
              "    <div class=\"colab-df-container\">\n",
              "      <div>\n",
              "<style scoped>\n",
              "    .dataframe tbody tr th:only-of-type {\n",
              "        vertical-align: middle;\n",
              "    }\n",
              "\n",
              "    .dataframe tbody tr th {\n",
              "        vertical-align: top;\n",
              "    }\n",
              "\n",
              "    .dataframe thead th {\n",
              "        text-align: right;\n",
              "    }\n",
              "</style>\n",
              "<table border=\"1\" class=\"dataframe\">\n",
              "  <thead>\n",
              "    <tr style=\"text-align: right;\">\n",
              "      <th></th>\n",
              "      <th>title</th>\n",
              "      <th>col1</th>\n",
              "      <th>col2</th>\n",
              "      <th>col3</th>\n",
              "      <th>col4</th>\n",
              "      <th>col5</th>\n",
              "      <th>col6</th>\n",
              "    </tr>\n",
              "  </thead>\n",
              "  <tbody>\n",
              "    <tr>\n",
              "      <th>2019-02-01 00:00:00</th>\n",
              "      <td>RT : به نظر شما وقتی  وزیر امورخارجه بریتانیا ...</td>\n",
              "      <td>981</td>\n",
              "      <td>0</td>\n",
              "      <td>0</td>\n",
              "      <td>144</td>\n",
              "      <td>220</td>\n",
              "      <td>184</td>\n",
              "    </tr>\n",
              "    <tr>\n",
              "      <th>2019-02-01 00:00:00</th>\n",
              "      <td>RT : بنر تصاویر دیکتاتور توسط  به آتش کشیده شد.</td>\n",
              "      <td>163</td>\n",
              "      <td>0</td>\n",
              "      <td>1</td>\n",
              "      <td>1589</td>\n",
              "      <td>981</td>\n",
              "      <td>31282</td>\n",
              "    </tr>\n",
              "    <tr>\n",
              "      <th>2019-02-01 00:00:00</th>\n",
              "      <td>RT : مشهد به واسطه وجود حرم مطهر امام رضا(ع) و...</td>\n",
              "      <td>60</td>\n",
              "      <td>0</td>\n",
              "      <td>2</td>\n",
              "      <td>380</td>\n",
              "      <td>418</td>\n",
              "      <td>3614</td>\n",
              "    </tr>\n",
              "    <tr>\n",
              "      <th>2019-02-01 00:00:00</th>\n",
              "      <td>عاخه تو مغزشون کردن هرکسی که مثلا از نظام انت...</td>\n",
              "      <td>0</td>\n",
              "      <td>1</td>\n",
              "      <td>3</td>\n",
              "      <td>466</td>\n",
              "      <td>708</td>\n",
              "      <td>5421</td>\n",
              "    </tr>\n",
              "    <tr>\n",
              "      <th>2019-02-01 00:00:00</th>\n",
              "      <td>نرم باشه لطفاً.</td>\n",
              "      <td>0</td>\n",
              "      <td>2</td>\n",
              "      <td>4</td>\n",
              "      <td>381</td>\n",
              "      <td>755</td>\n",
              "      <td>4084</td>\n",
              "    </tr>\n",
              "  </tbody>\n",
              "</table>\n",
              "</div>\n",
              "      <button class=\"colab-df-convert\" onclick=\"convertToInteractive('df-e06d7ccf-427d-48a8-a562-6a2b00160457')\"\n",
              "              title=\"Convert this dataframe to an interactive table.\"\n",
              "              style=\"display:none;\">\n",
              "        \n",
              "  <svg xmlns=\"http://www.w3.org/2000/svg\" height=\"24px\"viewBox=\"0 0 24 24\"\n",
              "       width=\"24px\">\n",
              "    <path d=\"M0 0h24v24H0V0z\" fill=\"none\"/>\n",
              "    <path d=\"M18.56 5.44l.94 2.06.94-2.06 2.06-.94-2.06-.94-.94-2.06-.94 2.06-2.06.94zm-11 1L8.5 8.5l.94-2.06 2.06-.94-2.06-.94L8.5 2.5l-.94 2.06-2.06.94zm10 10l.94 2.06.94-2.06 2.06-.94-2.06-.94-.94-2.06-.94 2.06-2.06.94z\"/><path d=\"M17.41 7.96l-1.37-1.37c-.4-.4-.92-.59-1.43-.59-.52 0-1.04.2-1.43.59L10.3 9.45l-7.72 7.72c-.78.78-.78 2.05 0 2.83L4 21.41c.39.39.9.59 1.41.59.51 0 1.02-.2 1.41-.59l7.78-7.78 2.81-2.81c.8-.78.8-2.07 0-2.86zM5.41 20L4 18.59l7.72-7.72 1.47 1.35L5.41 20z\"/>\n",
              "  </svg>\n",
              "      </button>\n",
              "      \n",
              "  <style>\n",
              "    .colab-df-container {\n",
              "      display:flex;\n",
              "      flex-wrap:wrap;\n",
              "      gap: 12px;\n",
              "    }\n",
              "\n",
              "    .colab-df-convert {\n",
              "      background-color: #E8F0FE;\n",
              "      border: none;\n",
              "      border-radius: 50%;\n",
              "      cursor: pointer;\n",
              "      display: none;\n",
              "      fill: #1967D2;\n",
              "      height: 32px;\n",
              "      padding: 0 0 0 0;\n",
              "      width: 32px;\n",
              "    }\n",
              "\n",
              "    .colab-df-convert:hover {\n",
              "      background-color: #E2EBFA;\n",
              "      box-shadow: 0px 1px 2px rgba(60, 64, 67, 0.3), 0px 1px 3px 1px rgba(60, 64, 67, 0.15);\n",
              "      fill: #174EA6;\n",
              "    }\n",
              "\n",
              "    [theme=dark] .colab-df-convert {\n",
              "      background-color: #3B4455;\n",
              "      fill: #D2E3FC;\n",
              "    }\n",
              "\n",
              "    [theme=dark] .colab-df-convert:hover {\n",
              "      background-color: #434B5C;\n",
              "      box-shadow: 0px 1px 3px 1px rgba(0, 0, 0, 0.15);\n",
              "      filter: drop-shadow(0px 1px 2px rgba(0, 0, 0, 0.3));\n",
              "      fill: #FFFFFF;\n",
              "    }\n",
              "  </style>\n",
              "\n",
              "      <script>\n",
              "        const buttonEl =\n",
              "          document.querySelector('#df-e06d7ccf-427d-48a8-a562-6a2b00160457 button.colab-df-convert');\n",
              "        buttonEl.style.display =\n",
              "          google.colab.kernel.accessAllowed ? 'block' : 'none';\n",
              "\n",
              "        async function convertToInteractive(key) {\n",
              "          const element = document.querySelector('#df-e06d7ccf-427d-48a8-a562-6a2b00160457');\n",
              "          const dataTable =\n",
              "            await google.colab.kernel.invokeFunction('convertToInteractive',\n",
              "                                                     [key], {});\n",
              "          if (!dataTable) return;\n",
              "\n",
              "          const docLinkHtml = 'Like what you see? Visit the ' +\n",
              "            '<a target=\"_blank\" href=https://colab.research.google.com/notebooks/data_table.ipynb>data table notebook</a>'\n",
              "            + ' to learn more about interactive tables.';\n",
              "          element.innerHTML = '';\n",
              "          dataTable['output_type'] = 'display_data';\n",
              "          await google.colab.output.renderOutput(dataTable, element);\n",
              "          const docLink = document.createElement('div');\n",
              "          docLink.innerHTML = docLinkHtml;\n",
              "          element.appendChild(docLink);\n",
              "        }\n",
              "      </script>\n",
              "    </div>\n",
              "  </div>\n",
              "  "
            ]
          },
          "metadata": {},
          "execution_count": 4
        }
      ]
    },
    {
      "cell_type": "code",
      "source": [
        "# Split the data into training, validation, and test datasets\n",
        "train_size = int(0.7 * len(data))\n",
        "val_size = int(0.15 * len(data))\n",
        "test_size = len(data) - train_size - val_size\n",
        "\n",
        "train_data = data[:train_size]\n",
        "val_data = data[train_size:train_size+val_size]\n",
        "test_data = data[train_size+val_size:]"
      ],
      "metadata": {
        "id": "D1gQimX8A7ix"
      },
      "execution_count": null,
      "outputs": []
    },
    {
      "cell_type": "code",
      "source": [
        "# Tokenize the text\n",
        "tokenizer = Tokenizer(oov_token='<oov>')\n",
        "tokenizer.fit_on_texts(train_data['title'])"
      ],
      "metadata": {
        "id": "64ZzWsC7A_00"
      },
      "execution_count": null,
      "outputs": []
    },
    {
      "cell_type": "code",
      "source": [
        "# Convert the text to sequences of integers\n",
        "train_sequences = tokenizer.texts_to_sequences(train_data['title'])\n",
        "val_sequences = tokenizer.texts_to_sequences(val_data['title'])\n",
        "test_sequences = tokenizer.texts_to_sequences(test_data['title'])"
      ],
      "metadata": {
        "id": "a-Pcrou2BC2F"
      },
      "execution_count": null,
      "outputs": []
    },
    {
      "cell_type": "code",
      "source": [
        "# Pad the sequences\n",
        "max_sequence_len = max([len(seq) for seq in train_sequences])\n",
        "train_sequences = pad_sequences(train_sequences, maxlen=max_sequence_len, padding='pre')\n",
        "val_sequences = pad_sequences(val_sequences, maxlen=max_sequence_len, padding='pre')\n",
        "test_sequences = pad_sequences(test_sequences, maxlen=max_sequence_len, padding='pre')"
      ],
      "metadata": {
        "id": "pz6z7ke1BE6i"
      },
      "execution_count": null,
      "outputs": []
    },
    {
      "cell_type": "code",
      "source": [
        "# Convert the labels to one-hot encoding\n",
        "num_words = len(tokenizer.word_index) + 1\n",
        "train_labels = to_categorical(train_data['col1'], num_classes=num_words)\n",
        "val_labels = to_categorical(val_data['col1'], num_classes=num_words)\n",
        "test_labels = to_categorical(test_data['col1'], num_classes=num_words)"
      ],
      "metadata": {
        "id": "7h-3rtxeBIK7"
      },
      "execution_count": null,
      "outputs": []
    },
    {
      "cell_type": "code",
      "source": [
        "# Define the model\n",
        "model = Sequential()\n",
        "model.add(Embedding(num_words, 100, input_length=max_sequence_len))\n",
        "model.add(Bidirectional(LSTM(150, dropout=0.2, recurrent_dropout=0.2)))\n",
        "model.add(Dense(num_words, activation='softmax'))\n",
        "model.compile(loss='categorical_crossentropy', optimizer='adam', metrics=['accuracy'])"
      ],
      "metadata": {
        "id": "XcwjBhN6BKtZ"
      },
      "execution_count": null,
      "outputs": []
    },
    {
      "cell_type": "code",
      "source": [
        "# Train the model\n",
        "history = model.fit(train_sequences, train_labels, epochs=2, batch_size=32, validation_data=(val_sequences, val_labels))\n"
      ],
      "metadata": {
        "colab": {
          "base_uri": "https://localhost:8080/"
        },
        "id": "BN4FZfsnBOBV",
        "outputId": "6b02604a-d9ab-496b-8038-50310f3cd659"
      },
      "execution_count": null,
      "outputs": [
        {
          "output_type": "stream",
          "name": "stdout",
          "text": [
            "Epoch 1/2\n",
            "219/219 [==============================] - 172s 755ms/step - loss: 3.3423 - accuracy: 0.5451 - val_loss: 2.6846 - val_accuracy: 0.5560\n",
            "Epoch 2/2\n",
            "219/219 [==============================] - 155s 708ms/step - loss: 2.4038 - accuracy: 0.5480 - val_loss: 2.5663 - val_accuracy: 0.5547\n"
          ]
        }
      ]
    },
    {
      "cell_type": "code",
      "source": [
        "# Evaluate the model on the test data\n",
        "test_loss, test_acc = model.evaluate(test_sequences, test_labels)\n",
        "print('Test loss:', test_loss)\n",
        "print('Test accuracy:', test_acc)"
      ],
      "metadata": {
        "colab": {
          "base_uri": "https://localhost:8080/"
        },
        "id": "JTMN5xL6BR1U",
        "outputId": "56efba11-bc03-4d8b-c475-b40b7ef45140"
      },
      "execution_count": null,
      "outputs": [
        {
          "output_type": "stream",
          "name": "stdout",
          "text": [
            "47/47 [==============================] - 6s 131ms/step - loss: 2.6012 - accuracy: 0.5427\n",
            "Test loss: 2.601213216781616\n",
            "Test accuracy: 0.5426666736602783\n"
          ]
        }
      ]
    },
    {
      "cell_type": "code",
      "source": [
        "index_to_word = {index: word for word, index in tokenizer.word_index.items()}\n",
        "import numpy as np\n",
        "import pickle\n",
        "\n",
        "max_sequence_len = 64\n"
      ],
      "metadata": {
        "id": "SBIkV-48BbGg"
      },
      "execution_count": null,
      "outputs": []
    },
    {
      "cell_type": "code",
      "source": [
        "import numpy as np\n",
        "\n",
        "# Preprocess the input text\n",
        "input_text = \"ایران\"\n",
        "input_text = preprocess_text(input_text)\n",
        "input_tokens = tokenizer.texts_to_sequences([input_text])\n",
        "input_sequence = pad_sequences(input_tokens, maxlen=max_sequence_len-1, padding='pre')\n",
        "\n",
        "# Use the trained model to make predictions\n",
        "predictions = model.predict(input_sequence)[0]\n",
        "\n",
        "# Get the top 5 predicted indices and their probabilities\n",
        "top_indices = predictions.argsort()[-5:][::-1]\n",
        "top_probabilities = predictions[top_indices]\n",
        "\n",
        "# Normalize the probabilities\n",
        "norm_probabilities = top_probabilities / np.sum(top_probabilities)\n",
        "\n",
        "# Choose a predicted index at random based on the probabilities\n",
        "predicted_index = np.random.choice(top_indices, p=norm_probabilities)\n",
        "\n",
        "# Convert the predicted index to a word\n",
        "if predicted_index in index_to_word:\n",
        "    predicted_word = index_to_word[predicted_index]\n",
        "    print(predicted_word)\n",
        "else:\n",
        "    print(\"Predicted index not in index_to_word dictionary\")"
      ],
      "metadata": {
        "colab": {
          "base_uri": "https://localhost:8080/"
        },
        "id": "c0FtG-HxCpVa",
        "outputId": "a7f474ed-2b8d-4433-d528-968311ed0425"
      },
      "execution_count": null,
      "outputs": [
        {
          "output_type": "stream",
          "name": "stdout",
          "text": [
            "1/1 [==============================] - 0s 47ms/step\n",
            "به\n"
          ]
        }
      ]
    },
    {
      "cell_type": "code",
      "source": [],
      "metadata": {
        "id": "VCktTeiZH6uV"
      },
      "execution_count": null,
      "outputs": []
    }
  ]
}